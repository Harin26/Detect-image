{
 "cells": [
  {
   "cell_type": "code",
   "execution_count": 1,
   "source": [
    "import cv2\n",
    "#crop รูปจากวีดีโอและบันทึก\n",
    "\n",
    "faceCascade = cv2.CascadeClassifier(\"haarcascade_frontalface_default.xml\")\n",
    "def creat_dataset(img,id,img_id):\n",
    "        cv2.imwrite(\"test/banana.\"+str(id)+\".\"+str(img_id)+\".jpg\",img)\n",
    "\n",
    "def draw_boundary(img,classifier,scaleFactor,minNeighbors,color,text):\n",
    "        gray = cv2.cvtColor(img,cv2.COLOR_BGR2GRAY)\n",
    "        features = classifier.detectMultiScale(gray,scaleFactor,minNeighbors)\n",
    "        coords = []\n",
    "        for (x,y,w,h) in features :\n",
    "            cv2.rectangle(img,(x,y),(x+w,y+h),color,2)\n",
    "            cv2.putText(img,text,(x,y-4),cv2.FONT_HERSHEY_SIMPLEX,0.8,color,2)\n",
    "            coords=[x,y,w,h]\n",
    "        return img,coords\n",
    "\n",
    "def detect (img,faceCascade,img_id):\n",
    "        img,coords = draw_boundary(img,faceCascade,1.1,10,(0,0,255),\"Face\")\n",
    "        id = 6\n",
    "        creat_dataset (img,id,img_id)\n",
    "        return img\n",
    "\n",
    "#open camera (เปิดใช้งานกล้อง)\n",
    "img_id = 0\n",
    "cap = cv2.VideoCapture(0)\n",
    "while (True):\n",
    "    ret,frame = cap.read()\n",
    "    frame = detect(frame,faceCascade,img_id)\n",
    "    cv2.imshow('frame',frame)\n",
    "    \n",
    "    if (cv2.waitKey(1) & 0xFF== ord('q')):\n",
    "        break\n",
    "cap.release()\n",
    "cv2.destroyAllWindows()"
   ],
   "outputs": [],
   "metadata": {}
  },
  {
   "cell_type": "code",
   "execution_count": 3,
   "source": [
    "import cv2\n",
    "import numpy as np\n",
    "#เปิดกล้องที่ใช้บันทึก\n",
    "cap = cv2.VideoCapture(0)\n",
    "\n",
    "while (cap.isOpened()):\n",
    "    ref,frame =cap.read()\n",
    "#ตัดสัญญาณลบกวน เกาส์เซียน    \n",
    "    roi = frame[:1500,0:2000]#บริเวณที่ต้องการ\n",
    "#แปลงภาพแบบสีเทา\n",
    "    gray = cv2.cvtColor(frame,cv2.COLOR_BGR2GRAY)\n",
    "#remove noise\n",
    "    gray_blur = cv2.GaussianBlur(gray,(15,15),0)\n",
    "    thresh = cv2.adaptiveThreshold(gray_blur,255,cv2.ADAPTIVE_THRESH_GAUSSIAN_C,cv2.THRESH_BINARY_INV,11,1)\n",
    "#สร้างเมทริกซ์เติมเต็ม\n",
    "    kernel = np.ones((3,3),np.uint8)\n",
    "    closing = cv2.morphologyEx(thresh,cv2.MORPH_CLOSE,kernel,iterations=4)\n",
    "\n",
    "    result_img =closing.copy()\n",
    "    contours,hierachy = cv2.findContours(result_img,cv2.RETR_EXTERNAL,cv2.CHAIN_APPROX_SIMPLE) #หาขอบ\n",
    "    for cnt in contours :\n",
    "        area = cv2.contourArea(cnt)\n",
    "        if area<5000 or area>35000:\n",
    "            continue\n",
    "        ellipse =cv2.fitEllipse(cnt)\n",
    "        cv2.ellipse(roi,ellipse,(0,255,0),2)\n",
    "\n",
    "\n",
    "    cv2.imshow(\"Show\",roi)\n",
    "    if cv2.waitKey(1) & 0xFF==ord('q'):\n",
    "        break\n",
    "cap.release()\n",
    "cv2.destroyAllWindows()\n"
   ],
   "outputs": [
    {
     "output_type": "stream",
     "name": "stderr",
     "text": [
      "[ WARN:0] global /tmp/pip-req-build-afu9cjzs/opencv/modules/videoio/src/cap_v4l.cpp (890) open VIDEOIO(V4L2:/dev/video0): can't open camera by index\n"
     ]
    }
   ],
   "metadata": {}
  },
  {
   "cell_type": "code",
   "execution_count": null,
   "source": [],
   "outputs": [],
   "metadata": {}
  },
  {
   "cell_type": "code",
   "execution_count": null,
   "source": [],
   "outputs": [],
   "metadata": {}
  }
 ],
 "metadata": {
  "language_info": {
   "name": "python",
   "version": "3.8.10",
   "mimetype": "text/x-python",
   "codemirror_mode": {
    "name": "ipython",
    "version": 3
   },
   "pygments_lexer": "ipython3",
   "nbconvert_exporter": "python",
   "file_extension": ".py"
  },
  "kernelspec": {
   "name": "python3",
   "display_name": "Python 3.8.10 64-bit"
  },
  "interpreter": {
   "hash": "916dbcbb3f70747c44a77c7bcd40155683ae19c65e1c03b4aa3499c5328201f1"
  }
 },
 "nbformat": 4,
 "nbformat_minor": 5
}