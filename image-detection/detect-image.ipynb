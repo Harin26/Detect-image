{
 "cells": [
  {
   "cell_type": "code",
   "execution_count": 1,
   "source": [
    "#import image\n",
    "import cv2\n",
    "img = cv2.imread(\"banana2.jpg\",)\n",
    "#img = cv2.line(img,(0,0),(255,255),(0,0,255),10)#(B,G,R)\n",
    "img = cv2.putText(img,\"OpenCV\",(10,100),cv2.FONT_HERSHEY_SIMPLEX,1,(0,0,0),2) #sc\n",
    "cv2.imshow(\"Result\",img)\n",
    "cv2.waitKey()\n",
    "cv2.destroyAllWindows()"
   ],
   "outputs": [],
   "metadata": {}
  },
  {
   "cell_type": "code",
   "execution_count": null,
   "source": [
    "#import image\n",
    "import cv2\n",
    "img = cv2.imread(\"banana.jpg\",cv2.IMREAD_COLOR)\n",
    "cv2.imshow('Show Result',img)\n",
    "cv2.waitKey(0)\n",
    "cv2.destroyAllwindows()\n",
    "cv2.imawrite('result.png',img)"
   ],
   "outputs": [],
   "metadata": {}
  },
  {
   "cell_type": "code",
   "execution_count": 6,
   "source": [
    "import cv2\n",
    "#parameter\n",
    "\n",
    "faceCascade = cv2.CascadeClassifier(\"haarcascade_frontalface_default.xml\")\n",
    "\n",
    "def draw_boundary(img,classifier,scaleFactor,minNeighbors,color,text):\n",
    "    gray = cv2.cvtColor(img,cv2.COLOR_BGR2GRAY)\n",
    "    features = classifier.detectMultiScale(gray,scaleFactor,minNeighbors)\n",
    "    coords = []\n",
    "    for (x,y,w,h) in features :\n",
    "        cv2.rectangle(img,(x,y),(x+w,y+h),color,2)\n",
    "        cv2.putText(img,text,(x,y-4),cv2.FONT_HERSHEY_SIMPLEX,0.8,color,2)\n",
    "        return img\n",
    "\n",
    "def detect (img,faceCascade):\n",
    "    img = draw_boundary(img,faceCascade,1.1,10,(255,0,0),\"Face\")\n",
    "    return img\n",
    "\n",
    "#open camera\n",
    "cap = cv2.VideoCapture(0)\n",
    "while (True):\n",
    "    ret,frame = cap.read()\n",
    "    fram = detect(frame,faceCascade)\n",
    "    frame = cv2.cvtColor(frame,cv2.IMREAD_COLOR) #real color\n",
    "    #gray = cv2.cvtColor(frame,cv2.COLOR_BGR2GRAY) #filter\n",
    "    cv2.imshow('frame',frame)\n",
    "    if (cv2.waitKey(1) & 0xFF==ord('q')):\n",
    "        break\n",
    "cap.release()\n",
    "cv2.destroyAllWindows()"
   ],
   "outputs": [],
   "metadata": {}
  },
  {
   "cell_type": "code",
   "execution_count": 3,
   "source": [
    "import cv2\n",
    "\n",
    "# Save image in set directory\n",
    "\n",
    "# Read RGB image\n",
    "\n",
    "img1 = cv2.imread('banana.jpg')\n",
    "\n",
    "img = cv2.cvtColor(img1, cv2.COLOR_BGR2GRAY)\n",
    "\n",
    "# applying different thresholding\n",
    "\n",
    "# techniques on the input image\n",
    "\n",
    "# all pixels value above 120 will\n",
    "\n",
    "# be set to 255\n",
    "\n",
    "ret, thresh1 = cv2.threshold(img, 100, 255, cv2.THRESH_BINARY)\n",
    "\n",
    "ret, thresh2 = cv2.threshold(img, 120, 255, cv2.THRESH_BINARY_INV)\n",
    "\n",
    "ret, thresh3 = cv2.threshold(img, 120, 255, cv2.THRESH_TRUNC)\n",
    "\n",
    "ret, thresh4 = cv2.threshold(img, 120, 255, cv2.THRESH_TOZERO)\n",
    "\n",
    "ret, thresh5 = cv2.threshold(img, 120, 255, cv2.THRESH_TOZERO_INV)\n",
    "\n",
    "# the window showing output images\n",
    "\n",
    "# with the corresponding thresholding\n",
    "\n",
    "# techniques applied to the input images\n",
    "\n",
    "cv2.imshow('Binary Threshold', thresh1)\n",
    "\n",
    "cv2.imshow('Binary Threshold Inverted', thresh2)\n",
    "\n",
    "cv2.imshow('Truncated Threshold', thresh3)\n",
    "\n",
    "cv2.imshow('Set to 0', thresh4)\n",
    "\n",
    "cv2.imshow('Set to 0 Inverted', thresh5)\n",
    "\n",
    "# Output img with window name as ‘image’\n",
    "\n",
    "cv2.imshow('image', img)\n",
    "\n",
    "# Maintain output window utill\n",
    "\n",
    "# user presses a key\n",
    "\n",
    "cv2.waitKey(0)\n",
    "# Destroying present windows on screen\n",
    "\n",
    "cv2.destroyAllWindows()"
   ],
   "outputs": [],
   "metadata": {}
  },
  {
   "cell_type": "code",
   "execution_count": null,
   "source": [],
   "outputs": [],
   "metadata": {}
  }
 ],
 "metadata": {
  "language_info": {
   "name": "python",
   "version": "3.8.10",
   "mimetype": "text/x-python",
   "codemirror_mode": {
    "name": "ipython",
    "version": 3
   },
   "pygments_lexer": "ipython3",
   "nbconvert_exporter": "python",
   "file_extension": ".py"
  },
  "kernelspec": {
   "name": "python3",
   "display_name": "Python 3.8.10 64-bit"
  },
  "interpreter": {
   "hash": "31f2aee4e71d21fbe5cf8b01ff0e069b9275f58929596ceb00d14d90e3e16cd6"
  }
 },
 "nbformat": 4,
 "nbformat_minor": 5
}